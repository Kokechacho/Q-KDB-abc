{
 "cells": [
  {
   "cell_type": "markdown",
   "id": "65197811-91e4-4589-8baa-4d9cfd5b87ad",
   "metadata": {},
   "source": [
    "# INTRODUCTION\n",
    "\n",
    "Throughout this guide, the goal is to create an interactive and engaging learning experience. Each theoretical concept will be immediately reinforced with hands-on exercises, allowing you to actively apply what you've learned\n",
    "\n",
    "## Data and Variables\n",
    "\n",
    "There are many data types and they do not differ much from other languagues, most important ones are:\n",
    "\n",
    "| Data type| number | character |\r\n",
    "| :- | -: | :-: \n",
    "| int | 6 | i\n",
    "| float | 9 | f\n",
    "| char | 10 | c\n",
    "| symbol | 11 | s\n",
    "| date | 14 | d\n",
    "| boolean | 1 | b \n",
    "| list | 0 | *\n",
    "\n",
    "\n"
   ]
  },
  {
   "cell_type": "markdown",
   "id": "9847f333-1f50-4eeb-af5d-7a567262536a",
   "metadata": {},
   "source": [
    "\n",
    "If you want to check every data type click [here](https://code.kx.com/q/basics/datatypes/).\n",
    "\n",
    "Try running this code:\n"
   ]
  },
  {
   "cell_type": "code",
   "execution_count": 8,
   "id": "1e1d65f9-b32c-4fe1-a1da-1d78f65bf051",
   "metadata": {},
   "outputs": [
    {
     "name": "stdout",
     "output_type": "stream",
     "text": [
      "33\n"
     ]
    },
    {
     "data": {
      "text/plain": [
       "-7h\r\n"
      ]
     },
     "execution_count": 8,
     "metadata": {},
     "output_type": "execute_result"
    }
   ],
   "source": [
    "show int: 33\n",
    "type int"
   ]
  },
  {
   "cell_type": "code",
   "execution_count": 9,
   "id": "3c8eac68-d7a1-4945-b7a5-845332cc71ae",
   "metadata": {},
   "outputs": [
    {
     "name": "stdout",
     "output_type": "stream",
     "text": [
      "`Nano\n"
     ]
    },
    {
     "data": {
      "text/plain": [
       "-11h\r\n"
      ]
     },
     "execution_count": 9,
     "metadata": {},
     "output_type": "execute_result"
    }
   ],
   "source": [
    "show symbol: `Nano\n",
    "type symbol"
   ]
  },
  {
   "cell_type": "code",
   "execution_count": 10,
   "id": "df9079f7-b7dd-4e6c-91ca-f90ba66d4196",
   "metadata": {},
   "outputs": [
    {
     "name": "stdout",
     "output_type": "stream",
     "text": [
      "\"String = symbol?\"\n"
     ]
    },
    {
     "data": {
      "text/plain": [
       "10h\r\n"
      ]
     },
     "execution_count": 10,
     "metadata": {},
     "output_type": "execute_result"
    }
   ],
   "source": [
    "show stringExample: \"String = symbol?\"\n",
    "type stringExample\n",
    "// No, String =! symbol. A symbol represents one unit of information whereas a string is a list of characters represented by capitalizing C **This tip is esential for casting**"
   ]
  },
  {
   "cell_type": "markdown",
   "id": "e2b55088-c746-44ef-92bc-1e7ebd7d0906",
   "metadata": {},
   "source": [
    "And that's it, assigning variables works just like that. Those keywords are auto-explicative enough.\n",
    "\n",
    "If type output is <u>negative</u> corresponds to a unit of data, if it's <u>positive</u> then it's a list.\n",
    "Don't be bothered about the \"h\". That only indicates that number is a short.\n",
    "\n",
    "But what if we wanted to cast some value to another type."
   ]
  },
  {
   "cell_type": "code",
   "execution_count": null,
   "id": "87327cce-b33e-4762-9bd3-3260e928a727",
   "metadata": {},
   "outputs": [],
   "source": [
    "## Casting\n",
    "\n"
   ]
  }
 ],
 "metadata": {
  "kernelspec": {
   "display_name": "Q (kdb+)",
   "language": "q",
   "name": "qpk"
  },
  "language_info": {
   "file_extension": ".q",
   "mimetype": "text/x-q",
   "name": "q",
   "version": "4.0"
  }
 },
 "nbformat": 4,
 "nbformat_minor": 5
}
